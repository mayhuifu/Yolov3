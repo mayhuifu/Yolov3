{
 "cells": [
  {
   "cell_type": "code",
   "execution_count": 1,
   "metadata": {},
   "outputs": [],
   "source": [
    "from ctypes import *\n",
    "import math\n",
    "import random"
   ]
  },
  {
   "cell_type": "code",
   "execution_count": 2,
   "metadata": {},
   "outputs": [],
   "source": [
    "def sample(probs):\n",
    "    s = sum(probs)\n",
    "    probs = [a/s for a in probs]\n",
    "    r = random.uniform(0, 1)\n",
    "    for i in range(len(probs)):\n",
    "        r = r - probs[i]\n",
    "        if r <= 0:\n",
    "            return i\n",
    "    return len(probs)-1\n",
    "\n",
    "def c_array(ctype, values):\n",
    "    arr = (ctype*len(values))()\n",
    "    arr[:] = values\n",
    "    return arr\n",
    "\n",
    "class BOX(Structure):\n",
    "    _fields_ = [(\"x\", c_float),\n",
    "                (\"y\", c_float),\n",
    "                (\"w\", c_float),\n",
    "                (\"h\", c_float)]\n",
    "\n",
    "class DETECTION(Structure):\n",
    "    _fields_ = [(\"bbox\", BOX),\n",
    "                (\"classes\", c_int),\n",
    "                (\"prob\", POINTER(c_float)),\n",
    "                (\"mask\", POINTER(c_float)),\n",
    "                (\"objectness\", c_float),\n",
    "                (\"sort_class\", c_int)]\n",
    "\n",
    "\n",
    "class IMAGE(Structure):\n",
    "    _fields_ = [(\"w\", c_int),\n",
    "                (\"h\", c_int),\n",
    "                (\"c\", c_int),\n",
    "                (\"data\", POINTER(c_float))]\n",
    "\n",
    "class METADATA(Structure):\n",
    "    _fields_ = [(\"classes\", c_int),\n",
    "                (\"names\", POINTER(c_char_p))]\n",
    "\n",
    "    "
   ]
  },
  {
   "cell_type": "code",
   "execution_count": 3,
   "metadata": {},
   "outputs": [],
   "source": [
    "lib = CDLL(\"./darknet/libdarknet.so\", RTLD_GLOBAL)\n",
    "lib.network_width.argtypes = [c_void_p]\n",
    "lib.network_width.restype = c_int\n",
    "lib.network_height.argtypes = [c_void_p]\n",
    "lib.network_height.restype = c_int"
   ]
  },
  {
   "cell_type": "code",
   "execution_count": 4,
   "metadata": {},
   "outputs": [],
   "source": [
    "predict = lib.network_predict\n",
    "predict.argtypes = [c_void_p, POINTER(c_float)]\n",
    "predict.restype = POINTER(c_float)\n",
    "\n",
    "set_gpu = lib.cuda_set_device\n",
    "set_gpu.argtypes = [c_int]\n",
    "\n",
    "make_image = lib.make_image\n",
    "make_image.argtypes = [c_int, c_int, c_int]\n",
    "make_image.restype = IMAGE\n",
    "\n",
    "get_network_boxes = lib.get_network_boxes\n",
    "get_network_boxes.argtypes = [c_void_p, c_int, c_int, c_float, c_float, POINTER(c_int), c_int, POINTER(c_int)]\n",
    "get_network_boxes.restype = POINTER(DETECTION)\n",
    "\n",
    "make_network_boxes = lib.make_network_boxes\n",
    "make_network_boxes.argtypes = [c_void_p]\n",
    "make_network_boxes.restype = POINTER(DETECTION)\n",
    "\n",
    "free_detections = lib.free_detections\n",
    "free_detections.argtypes = [POINTER(DETECTION), c_int]\n",
    "\n",
    "free_ptrs = lib.free_ptrs\n",
    "free_ptrs.argtypes = [POINTER(c_void_p), c_int]\n",
    "\n",
    "network_predict = lib.network_predict\n",
    "network_predict.argtypes = [c_void_p, POINTER(c_float)]\n",
    "\n",
    "reset_rnn = lib.reset_rnn\n",
    "reset_rnn.argtypes = [c_void_p]\n",
    "\n",
    "load_net = lib.load_network\n",
    "load_net.argtypes = [c_char_p, c_char_p, c_int]\n",
    "load_net.restype = c_void_p\n",
    "\n",
    "do_nms_obj = lib.do_nms_obj\n",
    "do_nms_obj.argtypes = [POINTER(DETECTION), c_int, c_int, c_float]\n",
    "\n",
    "do_nms_sort = lib.do_nms_sort\n",
    "do_nms_sort.argtypes = [POINTER(DETECTION), c_int, c_int, c_float]\n",
    "\n",
    "free_image = lib.free_image\n",
    "free_image.argtypes = [IMAGE]\n",
    "\n",
    "letterbox_image = lib.letterbox_image\n",
    "letterbox_image.argtypes = [IMAGE, c_int, c_int]\n",
    "letterbox_image.restype = IMAGE\n",
    "\n",
    "load_meta = lib.get_metadata\n",
    "lib.get_metadata.argtypes = [c_char_p]\n",
    "lib.get_metadata.restype = METADATA\n",
    "\n",
    "load_image = lib.load_image_color\n",
    "load_image.argtypes = [c_char_p, c_int, c_int]\n",
    "load_image.restype = IMAGE\n",
    "\n",
    "rgbgr_image = lib.rgbgr_image\n",
    "rgbgr_image.argtypes = [IMAGE]\n",
    "\n",
    "predict_image = lib.network_predict_image\n",
    "predict_image.argtypes = [c_void_p, IMAGE]\n",
    "predict_image.restype = POINTER(c_float)\n",
    "\n",
    "def classify(net, meta, im):\n",
    "    out = predict_image(net, im)\n",
    "    res = []\n",
    "    for i in range(meta.classes):\n",
    "        res.append((meta.names[i], out[i]))\n",
    "    res = sorted(res, key=lambda x: -x[1])\n",
    "    return res\n",
    "\n",
    "def detect(net, meta, image, thresh=.5, hier_thresh=.5, nms=.45):\n",
    "    im = load_image(image, 0, 0)\n",
    "    num = c_int(0)\n",
    "    pnum = pointer(num)\n",
    "    predict_image(net, im)\n",
    "    dets = get_network_boxes(net, im.w, im.h, thresh, hier_thresh, None, 0, pnum)\n",
    "    num = pnum[0]\n",
    "    if (nms): do_nms_obj(dets, num, meta.classes, nms);\n",
    "\n",
    "    res = []\n",
    "    for j in range(num):\n",
    "        for i in range(meta.classes):\n",
    "            if dets[j].prob[i] > 0:\n",
    "                b = dets[j].bbox\n",
    "                res.append((meta.names[i], dets[j].prob[i], (b.x, b.y, b.w, b.h)))\n",
    "    res = sorted(res, key=lambda x: -x[1])\n",
    "    free_image(im)\n",
    "    free_detections(dets, num)\n",
    "    return res\n",
    "    \n",
    "if __name__ == \"__main__\":\n",
    "    #net = load_net(\"cfg/densenet201.cfg\", \"/home/pjreddie/trained/densenet201.weights\", 0)\n",
    "    #im = load_image(\"data/wolf.jpg\", 0, 0)\n",
    "    #meta = load_meta(\"cfg/imagenet1k.data\")\n",
    "    #r = classify(net, meta, im)\n",
    "    #print r[:10]\n",
    "    cfg_name = \"./darknet/cfg/yolov3.cfg\"\n",
    "    weight_name = \"./darknet/yolov3.weights\"\n",
    "    net = load_net(cfg_name.encode('utf-8'),weight_name.encode('utf-8'), 0)\n",
    "    coco_data = \"./darknet/cfg/coco.data\"\n",
    "    meta = load_meta(coco_data.encode('utf-8'))\n",
    "    "
   ]
  },
  {
   "cell_type": "markdown",
   "metadata": {},
   "source": []
  },
  {
   "cell_type": "code",
   "execution_count": 5,
   "metadata": {},
   "outputs": [
    {
     "name": "stdout",
     "output_type": "stream",
     "text": [
      "16.835288047790527\n"
     ]
    }
   ],
   "source": [
    "import time\n",
    "start = time.time()\n",
    "#img_file = \"darknet/data/street_2.jpg\"\n",
    "img_file = \"/projects/work/open-image/test/a7f28cdf8eac0368.jpg\"\n",
    "r = detect(net, meta, img_file.encode('utf-8'))\n",
    "end = time.time()\n",
    "print (end - start)\n"
   ]
  },
  {
   "cell_type": "code",
   "execution_count": 6,
   "metadata": {},
   "outputs": [],
   "source": [
    "from PIL import Image, ImageDraw\n",
    "from PIL import ImageFont\n",
    "import numpy as np"
   ]
  },
  {
   "cell_type": "code",
   "execution_count": 7,
   "metadata": {},
   "outputs": [],
   "source": [
    "#basewidth = 416\n",
    "img = Image.open(img_file)\n",
    "#wpercent = (basewidth/float(img.size[0]))\n",
    "#hsize = int((float(img.size[1])*float(wpercent)))\n",
    "#mg = img.resize((basewidth,hsize), Image.ANTIALIAS)\n",
    "\n",
    "draw = ImageDraw.Draw(img)\n",
    "\n",
    "for i in range (0, len(r)):\n",
    " \n",
    "    bbox_x = r[i][2][0]\n",
    "    bbox_y = r[i][2][1]\n",
    "    bbox_w = r[i][2][2]\n",
    "    bbox_h = r[i][2][3]\n",
    "\n",
    "    left  = int(bbox_x-bbox_w/2);\n",
    "    right = int(bbox_x+bbox_w/2);\n",
    "    top   = int(bbox_y-bbox_h/2);\n",
    "    bot   = int(bbox_y+bbox_h/2);\n",
    "\n",
    "    pos = [left, top, right, bot]\n",
    "    print (\"there is a object in position\" + str(pos))\n",
    "    \n",
    "    draw.rectangle((left,top,right,bot), outline=\"red\", width =4)\n",
    "    draw.text((left,top), str(r[i][0])+\"%.2f\" %r[i][1])\n",
    "           \n",
    "img.show()"
   ]
  },
  {
   "cell_type": "code",
   "execution_count": 8,
   "metadata": {},
   "outputs": [
    {
     "data": {
      "text/plain": [
       "0"
      ]
     },
     "execution_count": 8,
     "metadata": {},
     "output_type": "execute_result"
    }
   ],
   "source": [
    "len(r)"
   ]
  },
  {
   "cell_type": "code",
   "execution_count": null,
   "metadata": {},
   "outputs": [],
   "source": []
  },
  {
   "cell_type": "code",
   "execution_count": null,
   "metadata": {},
   "outputs": [],
   "source": [
    "import nvidia_smi\n",
    "\n",
    "nvidia_smi.nvmlInit()\n",
    "handle = nvidia_smi.nvmlDeviceGetHandleByIndex(0)\n",
    "# card id 0 hardcoded here, there is also a call to get all available card ids, so we could iterate\n",
    "\n",
    "res = nvidia_smi.nvmlDeviceGetUtilizationRates(handle)\n",
    "print(f'gpu: {res.gpu}%, gpu-mem: {res.memory}%')"
   ]
  },
  {
   "cell_type": "code",
   "execution_count": null,
   "metadata": {},
   "outputs": [],
   "source": []
  }
 ],
 "metadata": {
  "kernelspec": {
   "display_name": "Python 3",
   "language": "python",
   "name": "python3"
  },
  "language_info": {
   "codemirror_mode": {
    "name": "ipython",
    "version": 3
   },
   "file_extension": ".py",
   "mimetype": "text/x-python",
   "name": "python",
   "nbconvert_exporter": "python",
   "pygments_lexer": "ipython3",
   "version": "3.7.5"
  }
 },
 "nbformat": 4,
 "nbformat_minor": 2
}
